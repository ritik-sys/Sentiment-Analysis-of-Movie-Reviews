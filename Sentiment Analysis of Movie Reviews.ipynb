{
 "cells": [
  {
   "cell_type": "markdown",
   "metadata": {},
   "source": [
    "<img src=\"https://drive.google.com/uc?export=view&id=1PfklOc_ZVdRvAuIQhL3E25EYIDVizjre\">\n"
   ]
  },
  {
   "cell_type": "markdown",
   "metadata": {},
   "source": [
    "# Importing Movie Review Dataset from NLTK.\n",
    "Sentiment Polarity Dataset Version 2.0\n",
    "Bo Pang and Lillian Lee\n",
    "\n",
    "http://www.cs.cornell.edu/people/pabo/movie-review-data/\n",
    "\n",
    "<b>Citation Info</b><br> \n",
    "Bo Pang and Lillian Lee. 2004. A Sentimental Education: Sentiment Analysis \n",
    "Using Subjectivity Summarization Based on Minimum Cuts. In ACL.\n"
   ]
  },
  {
   "cell_type": "code",
   "execution_count": 1,
   "metadata": {},
   "outputs": [
    {
     "name": "stderr",
     "output_type": "stream",
     "text": [
      "[nltk_data] Downloading package movie_reviews to\n",
      "[nltk_data]     C:\\Users\\asus\\AppData\\Roaming\\nltk_data...\n",
      "[nltk_data]   Package movie_reviews is already up-to-date!\n"
     ]
    }
   ],
   "source": [
    "import nltk\n",
    "nltk.download('movie_reviews')\n",
    "from nltk.corpus import movie_reviews\n",
    "import matplotlib.pyplot as plt\n",
    "from nltk.stem import WordNetLemmatizer\n",
    "from nltk.corpus import wordnet\n",
    "from nltk import pos_tag\n",
    "from nltk.tokenize import word_tokenize\n",
    "from nltk.corpus import stopwords\n",
    "import string\n",
    "from sklearn.model_selection import train_test_split\n",
    "import seaborn as sns\n",
    "from sklearn.feature_extraction.text import CountVectorizer\n",
    "from sklearn.feature_extraction.text import TfidfVectorizer\n",
    "from sklearn.metrics import f1_score\n",
    "from sklearn.metrics import confusion_matrix"
   ]
  },
  {
   "cell_type": "markdown",
   "metadata": {},
   "source": [
    "# Dataset Analysis"
   ]
  },
  {
   "cell_type": "code",
   "execution_count": 2,
   "metadata": {},
   "outputs": [
    {
     "name": "stdout",
     "output_type": "stream",
     "text": [
      "Category of Reviews\n",
      "['neg', 'pos']\n",
      "-----------------------\n",
      "Total Words in Dataset\n",
      "1583820\n"
     ]
    }
   ],
   "source": [
    "#types of reviews\n",
    "print(\"Category of Reviews\")\n",
    "print(movie_reviews.categories())\n",
    "print(\"-----------------------\")\n",
    "print(\"Total Words in Dataset\")\n",
    "#Number of words\n",
    "print(len(movie_reviews.words()))"
   ]
  },
  {
   "cell_type": "code",
   "execution_count": 3,
   "metadata": {},
   "outputs": [
    {
     "name": "stdout",
     "output_type": "stream",
     "text": [
      "Total Reviews in Dataset\n",
      "2000\n",
      "---------------------------\n",
      "No. of review of each Type\n",
      "1000 1000\n"
     ]
    }
   ],
   "source": [
    "#Number of Reviews\n",
    "print(\"Total Reviews in Dataset\")\n",
    "print(len(movie_reviews.fileids()))\n",
    "print(\"---------------------------\")\n",
    "#Postive and Negative Reviews\n",
    "print(\"No. of review of each Type\")\n",
    "print(len(movie_reviews.fileids(\"pos\")),len(movie_reviews.fileids(\"neg\")))"
   ]
  },
  {
   "cell_type": "markdown",
   "metadata": {},
   "source": [
    "# Data Preprocessing<br>\n",
    "<img src=\"https://res.cloudinary.com/dyd911kmh/image/upload/f_auto,q_auto:best/v1535125878/NLTK3_zwbdgg.png\">"
   ]
  },
  {
   "cell_type": "code",
   "execution_count": 4,
   "metadata": {},
   "outputs": [
    {
     "name": "stdout",
     "output_type": "stream",
     "text": [
      "Document 0 with its category stored in a tuple\n",
      "\n",
      "(['plot', ':', 'two', 'teen', 'couples', 'go', 'to', ...], 'neg')\n"
     ]
    }
   ],
   "source": [
    "\"\"\"\n",
    "documents is list of tuples containing review and its category\n",
    "\"\"\"\n",
    "documents = []\n",
    "for category in movie_reviews.categories():\n",
    "    for fileid in movie_reviews.fileids(category):\n",
    "         documents.append((movie_reviews.words(fileid),category))\n",
    "print(\"Document 0 with its category stored in a tuple\\n\")\n",
    "print(documents[0])\n",
    "\"\"\"\n",
    "Lets shuffle the reviews to have a better split in training and testing data\n",
    "\"\"\"\n",
    "import random \n",
    "random.shuffle(documents)"
   ]
  },
  {
   "cell_type": "code",
   "execution_count": 5,
   "metadata": {},
   "outputs": [
    {
     "name": "stdout",
     "output_type": "stream",
     "text": [
      "<class 'list'> 2000\n",
      "<class 'list'> 2000\n"
     ]
    }
   ],
   "source": [
    "\"\"\"\n",
    "We will store our Review and category in two different lists\n",
    "\"\"\"\n",
    "category = [category for document,category in documents]\n",
    "reviews = [\" \".join(document)for document,category in documents]\n",
    "print(type(category),len(category))\n",
    "print(type(reviews),len(reviews))"
   ]
  },
  {
   "cell_type": "markdown",
   "metadata": {},
   "source": [
    "# Data Cleaning"
   ]
  },
  {
   "cell_type": "code",
   "execution_count": 149,
   "metadata": {},
   "outputs": [],
   "source": [
    "\"\"\"\n",
    "Utility function to clean the review. We Also considered punctuation marks as Stop words\n",
    "\"\"\"\n",
    "lemmatizer = WordNetLemmatizer()\n",
    "stops = stopwords.words('english')\n",
    "punc = list(string.punctuation)\n",
    "stops = stops + punc\n",
    "\n",
    "\"\"\"\n",
    "Extracting Part of Speech (POS) for lemmatizer to work\n",
    "\"\"\"\n",
    "def get_simple_pos(tag):\n",
    "    if tag.startswith('J'):\n",
    "        return wordnet.ADJ\n",
    "    elif tag.startswith('V'):\n",
    "        return wordnet.VERB\n",
    "    elif tag.startswith('N'):\n",
    "        return wordnet.NOUN\n",
    "    elif tag.startswith('R'):\n",
    "        return wordnet.ADV\n",
    "    else:\n",
    "        return wordnet.NOUN\n",
    "    \n",
    "\"\"\"\n",
    "Function to clean the review by removing stop words , lemmatizing and converting to lower cases\n",
    "\"\"\"\n",
    "counter=0\n",
    "def clean_review(words):\n",
    "    words = word_tokenize(words)\n",
    "    output_words = []\n",
    "    for w in words:\n",
    "        if w.lower() not in stops:\n",
    "            \"\"\"\n",
    "            we will not convert our word to lower case \n",
    "            before lammetization. This is because it change the \n",
    "            pos of the word.\n",
    "            After we are done with lemmatization we will convert into \n",
    "            lower and append to our output_words[]\n",
    "            \"\"\"\n",
    "            \"\"\"\n",
    "            pos_tag() requires an array , if we simply\n",
    "            pass pass pos_tag(word) it will return pos \n",
    "            for each character of word\n",
    "            So correct way is pos_tag([word])\n",
    "            \"\"\"\n",
    "            pos = pos_tag([w])\n",
    "            clean_word = lemmatizer.lemmatize(w,pos=get_simple_pos(pos[0][1]))\n",
    "            output_words.append(clean_word.lower())\n",
    "    return output_words"
   ]
  },
  {
   "cell_type": "code",
   "execution_count": 150,
   "metadata": {},
   "outputs": [
    {
     "name": "stdout",
     "output_type": "stream",
     "text": [
      "##########\n",
      "Total runtime of the Data cleaning is 1224.8879384994507\n",
      "##########\n"
     ]
    }
   ],
   "source": [
    "import time \n",
    "begin = time.time()\n",
    "clean_reviews = [clean_review(review) for review in reviews]\n",
    "time.sleep(1)\n",
    "end = time.time()\n",
    "print(\"##########\")\n",
    "print(f\"Total runtime of the Data cleaning is {end - begin}\")\n",
    "print(\"##########\")"
   ]
  },
  {
   "cell_type": "code",
   "execution_count": 46,
   "metadata": {},
   "outputs": [
    {
     "name": "stdout",
     "output_type": "stream",
     "text": [
      "Words in Review 1 before cleaning\n",
      "2355\n",
      "----------------------------------\n",
      "Words in Review 1 after cleaning\n",
      "213\n"
     ]
    }
   ],
   "source": [
    "print(\"Words in Review 1 before cleaning\")\n",
    "print(len(reviews[0]))\n",
    "print(\"----------------------------------\")\n",
    "print(\"Words in Review 1 after cleaning\")\n",
    "print(len(clean_reviews[0]))"
   ]
  },
  {
   "cell_type": "markdown",
   "metadata": {},
   "source": [
    "# Data Preparation for Count Vectorizer and TF-IDF Vectorizer"
   ]
  },
  {
   "cell_type": "code",
   "execution_count": 93,
   "metadata": {},
   "outputs": [
    {
     "name": "stdout",
     "output_type": "stream",
     "text": [
      "Total Words in the whole document after cleaning\n"
     ]
    },
    {
     "data": {
      "text/plain": [
       "4798259"
      ]
     },
     "execution_count": 93,
     "metadata": {},
     "output_type": "execute_result"
    }
   ],
   "source": [
    "\"\"\"\n",
    "Count Vectorizer take input in the form of string So we convert this.\n",
    "\"\"\"\n",
    "\n",
    "clean_reviews_cv = [\" \".join(review) for review in clean_reviews]\n",
    "total_features = [len(review) for review in clean_reviews_cv]\n",
    "print(\"Total Words in the whole document after cleaning\")\n",
    "sum(total_features)"
   ]
  },
  {
   "cell_type": "markdown",
   "metadata": {},
   "source": [
    "#### Train Test Split"
   ]
  },
  {
   "cell_type": "code",
   "execution_count": 109,
   "metadata": {},
   "outputs": [
    {
     "name": "stdout",
     "output_type": "stream",
     "text": [
      "SHAPE OF TRAINING DATA\n",
      "1340 1340\n",
      "-------------------------\n",
      "SHAPE OF TEST DATA\n",
      "660 660\n"
     ]
    }
   ],
   "source": [
    "X_train, X_test, y_train, y_test = train_test_split(clean_reviews_cv,category, test_size=0.33, random_state=42)\n",
    "print(\"SHAPE OF TRAINING DATA\")\n",
    "print(len(X_train),len(y_train))\n",
    "print(\"-------------------------\")\n",
    "print(\"SHAPE OF TEST DATA\")\n",
    "print(len(X_test),len(y_test))"
   ]
  },
  {
   "cell_type": "markdown",
   "metadata": {},
   "source": [
    "# Count Vectorizer"
   ]
  },
  {
   "cell_type": "code",
   "execution_count": 110,
   "metadata": {},
   "outputs": [
    {
     "name": "stdout",
     "output_type": "stream",
     "text": [
      "[[0 0 0 ... 0 0 0]\n",
      " [0 0 0 ... 0 0 0]\n",
      " [0 0 0 ... 0 0 0]\n",
      " ...\n",
      " [1 6 0 ... 0 0 0]\n",
      " [0 0 0 ... 0 0 0]\n",
      " [0 0 0 ... 0 0 0]]\n"
     ]
    }
   ],
   "source": [
    "\"\"\" \n",
    "Count Vectorizer on Train data\n",
    "\"\"\"\n",
    "count_vec = CountVectorizer(max_features=6000,lowercase=True)\n",
    "x_train_cv = count_vec.fit_transform(X_train)\n",
    "print(x_train_cv.todense())"
   ]
  },
  {
   "cell_type": "code",
   "execution_count": 111,
   "metadata": {},
   "outputs": [
    {
     "name": "stdout",
     "output_type": "stream",
     "text": [
      "[[0 0 0 ... 0 0 0]\n",
      " [0 0 0 ... 0 0 0]\n",
      " [0 0 0 ... 0 0 0]\n",
      " ...\n",
      " [0 0 0 ... 0 0 0]\n",
      " [0 0 0 ... 0 0 0]\n",
      " [1 0 0 ... 0 0 0]]\n"
     ]
    }
   ],
   "source": [
    "\"\"\"\n",
    "Count Vectorizer on Test Data\n",
    "\"\"\"\n",
    "x_test_cv = count_vec.transform(X_test)\n",
    "print(x_test_cv.todense())"
   ]
  },
  {
   "cell_type": "markdown",
   "metadata": {},
   "source": [
    "# Tf-idf Vectorizer<br>\n",
    "<img src=\"https://www.romainberg.com/wp-content/uploads/TF_IDF-final-1024x399.png\">"
   ]
  },
  {
   "cell_type": "code",
   "execution_count": 112,
   "metadata": {},
   "outputs": [
    {
     "data": {
      "text/plain": [
       "matrix([[0.        , 0.        , 0.        , ..., 0.        , 0.        ,\n",
       "         0.        ],\n",
       "        [0.        , 0.        , 0.        , ..., 0.        , 0.        ,\n",
       "         0.        ],\n",
       "        [0.        , 0.        , 0.        , ..., 0.        , 0.        ,\n",
       "         0.        ],\n",
       "        ...,\n",
       "        [0.        , 0.03594997, 0.        , ..., 0.        , 0.        ,\n",
       "         0.        ],\n",
       "        [0.        , 0.        , 0.        , ..., 0.        , 0.        ,\n",
       "         0.        ],\n",
       "        [0.        , 0.        , 0.        , ..., 0.        , 0.        ,\n",
       "         0.        ]])"
      ]
     },
     "execution_count": 112,
     "metadata": {},
     "output_type": "execute_result"
    }
   ],
   "source": [
    "vectorizer = TfidfVectorizer()\n",
    "x_train_tfidf = vectorizer.fit_transform(X_train)\n",
    "x_train_tfidf.todense()"
   ]
  },
  {
   "cell_type": "code",
   "execution_count": 113,
   "metadata": {},
   "outputs": [
    {
     "name": "stdout",
     "output_type": "stream",
     "text": [
      "[[0 0 0 ... 0 0 0]\n",
      " [0 0 0 ... 0 0 0]\n",
      " [0 0 0 ... 0 0 0]\n",
      " ...\n",
      " [0 0 0 ... 0 0 0]\n",
      " [0 0 0 ... 0 0 0]\n",
      " [1 0 0 ... 0 0 0]]\n"
     ]
    }
   ],
   "source": [
    "x_test_tfidf = vectorizer.transform(X_test)\n",
    "print(x_test_cv.todense())"
   ]
  },
  {
   "cell_type": "markdown",
   "metadata": {},
   "source": [
    "# Applying relevant model\n",
    "\n",
    "- <font color=\"red\"> Support Vector Machine\n",
    "- <font color=\"red\"> Logistic Regression\n",
    "- <font color=\"red\"> Naive Bayes"
   ]
  },
  {
   "cell_type": "code",
   "execution_count": 116,
   "metadata": {},
   "outputs": [],
   "source": [
    "from sklearn.svm import SVC\n",
    "from sklearn.linear_model import LogisticRegression\n",
    "from sklearn.naive_bayes import MultinomialNB"
   ]
  },
  {
   "cell_type": "code",
   "execution_count": 141,
   "metadata": {},
   "outputs": [
    {
     "data": {
      "text/plain": [
       "MultinomialNB()"
      ]
     },
     "execution_count": 141,
     "metadata": {},
     "output_type": "execute_result"
    }
   ],
   "source": [
    "\"\"\"\n",
    "SVM\n",
    "\"\"\"\n",
    "svc = SVC()\n",
    "svc.fit(x_train_cv,y_train)\n",
    "\n",
    "\"\"\"\n",
    "Logistic Regression\n",
    "\"\"\"\n",
    "lr = LogisticRegression(max_iter=100000)\n",
    "lr.fit(x_train_cv,y_train)\n",
    "\n",
    "\"\"\"\n",
    "Naive Bayes\n",
    "\"\"\"\n",
    "nb = MultinomialNB()\n",
    "nb.fit(x_train_cv,y_train)"
   ]
  },
  {
   "cell_type": "code",
   "execution_count": 145,
   "metadata": {},
   "outputs": [],
   "source": [
    "y_pred_svc = svc.predict(x_test_cv)\n",
    "y_pred_lr = lr.predict(x_test_cv)\n",
    "y_pred_nb = nb.predict(x_test_cv)"
   ]
  },
  {
   "cell_type": "markdown",
   "metadata": {},
   "source": [
    "# Model Evaluation and Confusion Matrix"
   ]
  },
  {
   "cell_type": "markdown",
   "metadata": {},
   "source": [
    "## SVM"
   ]
  },
  {
   "cell_type": "code",
   "execution_count": 146,
   "metadata": {},
   "outputs": [
    {
     "name": "stdout",
     "output_type": "stream",
     "text": [
      "F1 score for SVM model\n",
      "0.8102409638554215\n",
      "--------------------\n",
      "CONFUSION MATRIX\n",
      "[[269  57]\n",
      " [ 69 265]]\n"
     ]
    }
   ],
   "source": [
    "print(\"F1 score for SVM model\")\n",
    "print(f1_score(y_test,y_pred_svc,average=\"binary\",pos_label=\"neg\"))\n",
    "print(\"--------------------\")\n",
    "print(\"CONFUSION MATRIX\")\n",
    "print(confusion_matrix(y_test,y_pred_svc))"
   ]
  },
  {
   "cell_type": "markdown",
   "metadata": {},
   "source": [
    "## Logistic Regression"
   ]
  },
  {
   "cell_type": "code",
   "execution_count": 147,
   "metadata": {},
   "outputs": [
    {
     "name": "stdout",
     "output_type": "stream",
     "text": [
      "F1 score for Logistic Regression model\n",
      "0.8421052631578947\n",
      "--------------------\n",
      "CONFUSION MATRIX\n",
      "[[272  54]\n",
      " [ 48 286]]\n"
     ]
    }
   ],
   "source": [
    "print(\"F1 score for Logistic Regression model\")\n",
    "print(f1_score(y_test,y_pred_lr,average=\"binary\",pos_label=\"neg\"))\n",
    "print(\"--------------------\")\n",
    "print(\"CONFUSION MATRIX\")\n",
    "print(confusion_matrix(y_test,y_pred_lr))"
   ]
  },
  {
   "cell_type": "markdown",
   "metadata": {},
   "source": [
    "## Naive Bayes"
   ]
  },
  {
   "cell_type": "code",
   "execution_count": 148,
   "metadata": {},
   "outputs": [
    {
     "name": "stdout",
     "output_type": "stream",
     "text": [
      "F1 score for Naive Bayes model\n",
      "0.8320726172465961\n",
      "--------------------\n",
      "CONFUSION MATRIX\n",
      "[[275  51]\n",
      " [ 60 274]]\n"
     ]
    }
   ],
   "source": [
    "print(\"F1 score for Naive Bayes model\")\n",
    "print(f1_score(y_test,y_pred_nb,average=\"binary\",pos_label=\"neg\"))\n",
    "print(\"--------------------\")\n",
    "print(\"CONFUSION MATRIX\")\n",
    "print(confusion_matrix(y_test,y_pred_nb))"
   ]
  },
  {
   "cell_type": "markdown",
   "metadata": {},
   "source": [
    "# <font color=\"red\"> Logistic Regression is giving Highest F1 score "
   ]
  }
 ],
 "metadata": {
  "kernelspec": {
   "display_name": "Python 3",
   "language": "python",
   "name": "python3"
  },
  "language_info": {
   "codemirror_mode": {
    "name": "ipython",
    "version": 3
   },
   "file_extension": ".py",
   "mimetype": "text/x-python",
   "name": "python",
   "nbconvert_exporter": "python",
   "pygments_lexer": "ipython3",
   "version": "3.7.9"
  }
 },
 "nbformat": 4,
 "nbformat_minor": 4
}
